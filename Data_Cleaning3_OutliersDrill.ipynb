{
 "cells": [
  {
   "cell_type": "markdown",
   "metadata": {},
   "source": [
    "## Data Cleaning Drill 3 - Outliers\n",
    "\n",
    "Use the dataset 'US Education' from previous exercise and make sure that missing values have been corrected for this exercise. \n",
    "\n",
    "1) Consider the two variables: TOTAL_REVENUE and TOTAL_EXPENDITURE. Do these variables have outlier values?\n",
    "\n",
    "2) If you detect outliers in the TOTAL_REVENUE and TOTAL_EXPENDITURE variables, apply the techniques you learned in this checkpoint to eliminate them and validate that there's no outlier values after you handled them.\n",
    "\n",
    "3) Create another variable by subtracting the original TOTAL_EXPENDITURE from TOTAL_REVENUE (before you eliminated the outliers). You can think of it as a kind of budget deficit in education. Do you find any outlier values in this new variable? If so, eliminate them using the technique you think most suitable.\n",
    "\n",
    "4) Now create another variable by subtracting the TOTAL_EXPENDITURE from TOTAL_REVENUE. This time, use the outlier eliminated versions of TOTAL_EXPENDITURE from TOTAL_REVENUE. In this newly created variable, can you find any outliers? If so, eliminate them.\n",
    "\n",
    "5) Compare some basic descriptive statistics of the budget variables you end up with in the 3rd and the 4th questions. Do you see any differences?\n",
    "\n",
    "6) If our variable of interest is the budget deficit variable, which method do you think is the appropriate in dealing with the outliers in this variable: the method in the 3rd question or the one in the 4th question?"
   ]
  },
  {
   "cell_type": "code",
   "execution_count": 1,
   "metadata": {},
   "outputs": [],
   "source": [
    "import pandas as pd\n",
    "import numpy as np\n",
    "import matplotlib.pyplot as plt\n",
    "%matplotlib inline\n",
    "import seaborn as sns\n",
    "import statistics\n",
    "import psycopg2\n",
    "from sqlalchemy import create_engine\n",
    "import warnings"
   ]
  },
  {
   "cell_type": "code",
   "execution_count": 2,
   "metadata": {},
   "outputs": [],
   "source": [
    "#Connecting to Postgres database using sqlachemy\n",
    "warnings.filterwarnings('ignore')\n",
    "\n",
    "postgres_user = 'dsbc_student'\n",
    "postgres_pw = '7*.8G9QH21'\n",
    "postgres_host = '142.93.121.174'\n",
    "postgres_port = '5432'\n",
    "postgres_db = 'useducation'\n",
    "\n",
    "engine = create_engine('postgresql://{}:{}@{}:{}/{}'.format(\n",
    "    postgres_user, postgres_pw, postgres_host, postgres_port, postgres_db))\n",
    "\n",
    "education_df = pd.read_sql_query('select * from useducation',con=engine)\n",
    "\n",
    "# no need for an open connection, \n",
    "# as we're only doing a single query\n",
    "engine.dispose()"
   ]
  },
  {
   "cell_type": "code",
   "execution_count": 3,
   "metadata": {},
   "outputs": [],
   "source": [
    "#Create a list called 'names' to fill in the missing values for revenues and students\n",
    "\n",
    "names = ['ENROLL','TOTAL_REVENUE',                   \n",
    "'FEDERAL_REVENUE',                 \n",
    "'STATE_REVENUE',                   \n",
    "'LOCAL_REVENUE',                   \n",
    "'TOTAL_EXPENDITURE',              \n",
    "'INSTRUCTION_EXPENDITURE',        \n",
    "'SUPPORT_SERVICES_EXPENDITURE',    \n",
    "'OTHER_EXPENDITURE',              \n",
    "'CAPITAL_OUTLAY_EXPENDITURE',      \n",
    "'GRADES_PK_G',                   \n",
    "'GRADES_KG_G',                     \n",
    "'GRADES_4_G',                      \n",
    "'GRADES_8_G',                      \n",
    "'GRADES_12_G',                     \n",
    "'GRADES_1_8_G',                    \n",
    "'GRADES_9_12_G',                   \n",
    "'GRADES_ALL_G']\n",
    "\n",
    "#Then iterate using for loop for each column to fill in NaN values\n",
    "\n",
    "for name in names:\n",
    "    education_df[\"{}\".format(name)] = education_df.groupby(['YEAR'])[\"{}\".format(name)]\\\n",
    "        .transform(lambda x: x.fillna(x.mean()))"
   ]
  },
  {
   "cell_type": "code",
   "execution_count": 4,
   "metadata": {},
   "outputs": [
    {
     "name": "stdout",
     "output_type": "stream",
     "text": [
      "<class 'pandas.core.frame.DataFrame'>\n",
      "RangeIndex: 1492 entries, 0 to 1491\n",
      "Data columns (total 25 columns):\n",
      "PRIMARY_KEY                     1492 non-null object\n",
      "STATE                           1492 non-null object\n",
      "YEAR                            1492 non-null int64\n",
      "ENROLL                          1385 non-null float64\n",
      "TOTAL_REVENUE                   1441 non-null float64\n",
      "FEDERAL_REVENUE                 1441 non-null float64\n",
      "STATE_REVENUE                   1441 non-null float64\n",
      "LOCAL_REVENUE                   1441 non-null float64\n",
      "TOTAL_EXPENDITURE               1441 non-null float64\n",
      "INSTRUCTION_EXPENDITURE         1441 non-null float64\n",
      "SUPPORT_SERVICES_EXPENDITURE    1441 non-null float64\n",
      "OTHER_EXPENDITURE               1385 non-null float64\n",
      "CAPITAL_OUTLAY_EXPENDITURE      1441 non-null float64\n",
      "GRADES_PK_G                     1390 non-null float64\n",
      "GRADES_KG_G                     1390 non-null float64\n",
      "GRADES_4_G                      1390 non-null float64\n",
      "GRADES_8_G                      1390 non-null float64\n",
      "GRADES_12_G                     1390 non-null float64\n",
      "GRADES_1_8_G                    1390 non-null float64\n",
      "GRADES_9_12_G                   1390 non-null float64\n",
      "GRADES_ALL_G                    1390 non-null float64\n",
      "AVG_MATH_4_SCORE                536 non-null float64\n",
      "AVG_MATH_8_SCORE                532 non-null float64\n",
      "AVG_READING_4_SCORE             533 non-null float64\n",
      "AVG_READING_8_SCORE             498 non-null float64\n",
      "dtypes: float64(22), int64(1), object(2)\n",
      "memory usage: 291.5+ KB\n"
     ]
    }
   ],
   "source": [
    "education_df.info()"
   ]
  },
  {
   "cell_type": "code",
   "execution_count": 5,
   "metadata": {},
   "outputs": [
    {
     "data": {
      "text/plain": [
       "PRIMARY_KEY                     0.000000\n",
       "STATE                           0.000000\n",
       "YEAR                            0.000000\n",
       "ENROLL                          0.071716\n",
       "TOTAL_REVENUE                   0.034182\n",
       "FEDERAL_REVENUE                 0.034182\n",
       "STATE_REVENUE                   0.034182\n",
       "LOCAL_REVENUE                   0.034182\n",
       "TOTAL_EXPENDITURE               0.034182\n",
       "INSTRUCTION_EXPENDITURE         0.034182\n",
       "SUPPORT_SERVICES_EXPENDITURE    0.034182\n",
       "OTHER_EXPENDITURE               0.071716\n",
       "CAPITAL_OUTLAY_EXPENDITURE      0.034182\n",
       "GRADES_PK_G                     0.068365\n",
       "GRADES_KG_G                     0.068365\n",
       "GRADES_4_G                      0.068365\n",
       "GRADES_8_G                      0.068365\n",
       "GRADES_12_G                     0.068365\n",
       "GRADES_1_8_G                    0.068365\n",
       "GRADES_9_12_G                   0.068365\n",
       "GRADES_ALL_G                    0.068365\n",
       "AVG_MATH_4_SCORE                0.640751\n",
       "AVG_MATH_8_SCORE                0.643432\n",
       "AVG_READING_4_SCORE             0.642761\n",
       "AVG_READING_8_SCORE             0.666220\n",
       "dtype: float64"
      ]
     },
     "execution_count": 5,
     "metadata": {},
     "output_type": "execute_result"
    }
   ],
   "source": [
    "#Check to see % of missing values from original .142\n",
    "education_df.isnull().sum()/education_df.isnull().count()"
   ]
  },
  {
   "cell_type": "code",
   "execution_count": 6,
   "metadata": {},
   "outputs": [],
   "source": [
    "#Now use interpolation to fill in missing remaining missing values\n",
    "for name in names:\n",
    "    education_df[\"{}\".format(name)] = education_df[\"{}\".format(name)]\\\n",
    "        .interpolate(method='nearest', limit_direction='backward')"
   ]
  },
  {
   "cell_type": "code",
   "execution_count": 7,
   "metadata": {},
   "outputs": [
    {
     "data": {
      "text/plain": [
       "PRIMARY_KEY                     0.000000\n",
       "STATE                           0.000000\n",
       "YEAR                            0.000000\n",
       "ENROLL                          0.054290\n",
       "TOTAL_REVENUE                   0.030161\n",
       "FEDERAL_REVENUE                 0.030161\n",
       "STATE_REVENUE                   0.030161\n",
       "LOCAL_REVENUE                   0.030161\n",
       "TOTAL_EXPENDITURE               0.030161\n",
       "INSTRUCTION_EXPENDITURE         0.030161\n",
       "SUPPORT_SERVICES_EXPENDITURE    0.030161\n",
       "OTHER_EXPENDITURE               0.054290\n",
       "CAPITAL_OUTLAY_EXPENDITURE      0.030161\n",
       "GRADES_PK_G                     0.030161\n",
       "GRADES_KG_G                     0.030161\n",
       "GRADES_4_G                      0.030161\n",
       "GRADES_8_G                      0.030161\n",
       "GRADES_12_G                     0.030161\n",
       "GRADES_1_8_G                    0.030161\n",
       "GRADES_9_12_G                   0.030161\n",
       "GRADES_ALL_G                    0.030161\n",
       "AVG_MATH_4_SCORE                0.640751\n",
       "AVG_MATH_8_SCORE                0.643432\n",
       "AVG_READING_4_SCORE             0.642761\n",
       "AVG_READING_8_SCORE             0.666220\n",
       "dtype: float64"
      ]
     },
     "execution_count": 7,
     "metadata": {},
     "output_type": "execute_result"
    }
   ],
   "source": [
    "#Check to see % of missing values from first pass at missing values of .03\n",
    "education_df.isnull().sum()/education_df.isnull().count()"
   ]
  },
  {
   "cell_type": "code",
   "execution_count": 8,
   "metadata": {},
   "outputs": [],
   "source": [
    "education_df.dropna(inplace=True)"
   ]
  },
  {
   "cell_type": "code",
   "execution_count": 9,
   "metadata": {},
   "outputs": [
    {
     "data": {
      "text/plain": [
       "PRIMARY_KEY                     0.0\n",
       "STATE                           0.0\n",
       "YEAR                            0.0\n",
       "ENROLL                          0.0\n",
       "TOTAL_REVENUE                   0.0\n",
       "FEDERAL_REVENUE                 0.0\n",
       "STATE_REVENUE                   0.0\n",
       "LOCAL_REVENUE                   0.0\n",
       "TOTAL_EXPENDITURE               0.0\n",
       "INSTRUCTION_EXPENDITURE         0.0\n",
       "SUPPORT_SERVICES_EXPENDITURE    0.0\n",
       "OTHER_EXPENDITURE               0.0\n",
       "CAPITAL_OUTLAY_EXPENDITURE      0.0\n",
       "GRADES_PK_G                     0.0\n",
       "GRADES_KG_G                     0.0\n",
       "GRADES_4_G                      0.0\n",
       "GRADES_8_G                      0.0\n",
       "GRADES_12_G                     0.0\n",
       "GRADES_1_8_G                    0.0\n",
       "GRADES_9_12_G                   0.0\n",
       "GRADES_ALL_G                    0.0\n",
       "AVG_MATH_4_SCORE                0.0\n",
       "AVG_MATH_8_SCORE                0.0\n",
       "AVG_READING_4_SCORE             0.0\n",
       "AVG_READING_8_SCORE             0.0\n",
       "dtype: float64"
      ]
     },
     "execution_count": 9,
     "metadata": {},
     "output_type": "execute_result"
    }
   ],
   "source": [
    "#Check to see % of missing values from first pass at missing values of .03\n",
    "education_df.isnull().sum()/education_df.isnull().count()"
   ]
  },
  {
   "cell_type": "code",
   "execution_count": 10,
   "metadata": {},
   "outputs": [],
   "source": [
    "#Create a new variable \"Deficit\" by subtracting TOTAL_EXPENDITURE from TOTAL_REVENUE\n",
    "\n",
    "#Define 'Deficit' and add to dataframe\n",
    "education_df['DEFICIT']=education_df['TOTAL_REVENUE'] - education_df['TOTAL_EXPENDITURE']"
   ]
  },
  {
   "cell_type": "markdown",
   "metadata": {},
   "source": [
    "### 1) Look for Outliers in REVENUE fields\n",
    "\n",
    "1) Consider the two variables: TOTAL_REVENUE and TOTAL_EXPENDITURE. Do these variables have outlier values?\n",
    "\n",
    "2) If you detect outliers in the TOTAL_REVENUE and TOTAL_EXPENDITURE variables, apply the techniques you learned in this checkpoint to eliminate them and validate that there's no outlier values after you handled them.\n",
    "\n"
   ]
  },
  {
   "cell_type": "code",
   "execution_count": 11,
   "metadata": {},
   "outputs": [
    {
     "data": {
      "image/png": "[encoded data removed]",
      "text/plain": [
       "<Figure size 1080x360 with 3 Axes>"
      ]
     },
     "metadata": {
      "needs_background": "light"
     },
     "output_type": "display_data"
    }
   ],
   "source": [
    "#historgram for TOTAL_REVENUE, TOTAL_EXPENDITURE & DEFICIT to visually detect outliers\n",
    "\n",
    "plt.figure(figsize = (15,5))\n",
    "\n",
    "plt.subplot(1,3,1)\n",
    "plt.hist(education_df[\"TOTAL_REVENUE\"])\n",
    "plt.title(\"Histogram of TOTAL REVENUE\")\n",
    "\n",
    "plt.subplot(1,3,2)\n",
    "plt.hist(education_df[\"TOTAL_EXPENDITURE\"])\n",
    "plt.title(\"Histrogram of TOTAL EXPENDITURE\")\n",
    "\n",
    "plt.subplot(1,3,3)\n",
    "plt.hist(education_df[\"DEFICIT\"])\n",
    "plt.title(\"Histrogram of DEFICIT\")\n",
    "\n",
    "plt.show()"
   ]
  },
  {
   "cell_type": "code",
   "execution_count": 12,
   "metadata": {},
   "outputs": [
    {
     "data": {
      "text/plain": [
       "Text(0.5, 1.0, 'Box Plot of DEFICIT')"
      ]
     },
     "execution_count": 12,
     "metadata": {},
     "output_type": "execute_result"
    },
    {
     "data": {
      "image/png": "[encoded data removed]",
      "text/plain": [
       "<Figure size 1080x360 with 3 Axes>"
      ]
     },
     "metadata": {
      "needs_background": "light"
     },
     "output_type": "display_data"
    }
   ],
   "source": [
    "#historgram for TOTAL_REVENUE, TOTAL_EXPENDITURE & DEFICIT to visually detect outliers\n",
    "\n",
    "plt.figure(figsize = (15,5))\n",
    "\n",
    "plt.subplot(1,3,1)\n",
    "plt.boxplot(education_df['TOTAL_REVENUE'], whis=5)\n",
    "plt.title(\"Box Plot of TOTAL REVENUE\")\n",
    "\n",
    "plt.subplot(1,3,2)\n",
    "plt.boxplot(education_df['TOTAL_EXPENDITURE'], whis=5)\n",
    "plt.title(\"Box Plot of TOTAL EXPENDITURE\")\n",
    "\n",
    "plt.subplot(1,3,3)\n",
    "plt.boxplot(education_df['DEFICIT'], whis=5)\n",
    "plt.title(\"Box Plot of DEFICIT\")"
   ]
  },
  {
   "cell_type": "code",
   "execution_count": 13,
   "metadata": {},
   "outputs": [
    {
     "name": "stdout",
     "output_type": "stream",
     "text": [
      "The score threshold is: 1\n",
      "The indices of the outliers:\n",
      "(array([  3,  28,  54,  63,  92, 103, 115, 143, 154, 166, 171, 175, 192,\n",
      "       194, 200, 205, 217, 223, 227, 245, 247, 253, 258, 270, 275, 279,\n",
      "       296, 298, 301, 304, 309, 323, 328, 332, 349, 351, 357, 362, 374,\n",
      "       379, 383, 400, 402, 405, 408, 413]),)\n",
      "Number of outliers is: 46\n",
      "The score threshold is: 2\n",
      "The indices of the outliers:\n",
      "(array([ 28,  63,  92, 115, 143, 154, 166, 194, 205, 217, 247, 258, 270,\n",
      "       298, 309, 323, 351, 362, 374, 402, 413]),)\n",
      "Number of outliers is: 21\n",
      "The score threshold is: 3\n",
      "The indices of the outliers:\n",
      "(array([ 63, 115, 166, 194, 217, 247, 270, 298, 309, 323, 351, 362, 374,\n",
      "       402, 413]),)\n",
      "Number of outliers is: 15\n",
      "The score threshold is: 4\n",
      "The indices of the outliers:\n",
      "(array([166, 217, 270, 323, 374, 402]),)\n",
      "Number of outliers is: 6\n"
     ]
    }
   ],
   "source": [
    "#Use z-score to statistically determine outliers in REVENUE\n",
    "from scipy.stats import zscore\n",
    "\n",
    "z_scores = zscore(education_df[\"TOTAL_REVENUE\"])\n",
    "for threshold in range(1,5):\n",
    "    print(\"The score threshold is: {}\".format(threshold))\n",
    "    print(\"The indices of the outliers:\")\n",
    "    print(np.where(z_scores > threshold))\n",
    "    print(\"Number of outliers is: {}\".format(len((np.where(z_scores > threshold)[0]))))"
   ]
  },
  {
   "cell_type": "code",
   "execution_count": 14,
   "metadata": {},
   "outputs": [
    {
     "name": "stdout",
     "output_type": "stream",
     "text": [
      "The score threshold is: 1.0\n",
      "Number of outliers is: 54\n",
      "The score threshold is: 1.5\n",
      "Number of outliers is: 40\n",
      "The score threshold is: 2.0\n",
      "Number of outliers is: 24\n",
      "The score threshold is: 2.5\n",
      "Number of outliers is: 22\n",
      "The score threshold is: 3.0\n",
      "Number of outliers is: 19\n",
      "The score threshold is: 3.5\n",
      "Number of outliers is: 18\n",
      "The score threshold is: 4.0\n",
      "Number of outliers is: 15\n",
      "The score threshold is: 4.5\n",
      "Number of outliers is: 12\n"
     ]
    }
   ],
   "source": [
    "# NumPy's percentile() method returns the \n",
    "# values of the given percentiles. In our case,\n",
    "# we give 75 and 25 as parameters which corresponds \n",
    "# to the third and the first quartile.\n",
    "q75, q25 = np.percentile(education_df[\"TOTAL_REVENUE\"], [75 ,25])\n",
    "iqr = q75 - q25\n",
    "\n",
    "for threshold in np.arange(1,5,0.5):\n",
    "    min_val = q25 - (iqr*threshold)\n",
    "    max_val = q75 + (iqr*threshold)\n",
    "    print(\"The score threshold is: {}\".format(threshold))\n",
    "    print(\"Number of outliers is: {}\".format(\n",
    "        len((np.where((education_df[\"TOTAL_REVENUE\"] > max_val) \n",
    "                      | (education_df[\"TOTAL_REVENUE\"] < min_val))[0]))\n",
    "    ))"
   ]
  },
  {
   "cell_type": "code",
   "execution_count": 15,
   "metadata": {},
   "outputs": [
    {
     "name": "stdout",
     "output_type": "stream",
     "text": [
      "The score threshold is: 1\n",
      "The indices of the outliers:\n",
      "(array([  3,  28,  54,  63,  92, 103, 115, 120, 143, 154, 166, 171, 192,\n",
      "       194, 200, 205, 217, 223, 227, 245, 247, 253, 258, 270, 275, 279,\n",
      "       296, 298, 304, 309, 323, 328, 332, 349, 351, 357, 362, 374, 379,\n",
      "       383, 400, 402, 408, 413]),)\n",
      "Number of outliers is: 44\n",
      "The score threshold is: 2\n",
      "The indices of the outliers:\n",
      "(array([ 28,  63,  92, 103, 115, 143, 154, 166, 194, 205, 217, 247, 258,\n",
      "       270, 298, 309, 323, 351, 362, 374, 402, 413]),)\n",
      "Number of outliers is: 22\n",
      "The score threshold is: 3\n",
      "The indices of the outliers:\n",
      "(array([ 63, 115, 166, 194, 217, 247, 258, 270, 298, 309, 323, 351, 362,\n",
      "       374, 402, 413]),)\n",
      "Number of outliers is: 16\n",
      "The score threshold is: 4\n",
      "The indices of the outliers:\n",
      "(array([115, 166, 217, 270, 323, 374, 402]),)\n",
      "Number of outliers is: 7\n"
     ]
    }
   ],
   "source": [
    "#Use z-score to statistically determine outliers in EXPENDITURE\n",
    "from scipy.stats import zscore\n",
    "\n",
    "z_scores = zscore(education_df[\"TOTAL_EXPENDITURE\"])\n",
    "for threshold in range(1,5):\n",
    "    print(\"The score threshold is: {}\".format(threshold))\n",
    "    print(\"The indices of the outliers:\")\n",
    "    print(np.where(z_scores > threshold))\n",
    "    print(\"Number of outliers is: {}\".format(len((np.where(z_scores > threshold)[0]))))"
   ]
  },
  {
   "cell_type": "code",
   "execution_count": 16,
   "metadata": {},
   "outputs": [
    {
     "name": "stdout",
     "output_type": "stream",
     "text": [
      "The score threshold is: 1.0\n",
      "Number of outliers is: 57\n",
      "The score threshold is: 1.5\n",
      "Number of outliers is: 43\n",
      "The score threshold is: 2.0\n",
      "Number of outliers is: 28\n",
      "The score threshold is: 2.5\n",
      "Number of outliers is: 22\n",
      "The score threshold is: 3.0\n",
      "Number of outliers is: 21\n",
      "The score threshold is: 3.5\n",
      "Number of outliers is: 19\n",
      "The score threshold is: 4.0\n",
      "Number of outliers is: 16\n",
      "The score threshold is: 4.5\n",
      "Number of outliers is: 15\n"
     ]
    }
   ],
   "source": [
    "# NumPy's percentile() method returns the \n",
    "# values of the given percentiles. In our case,\n",
    "# we give 75 and 25 as parameters which corresponds \n",
    "# to the third and the first quartile.\n",
    "q75, q25 = np.percentile(education_df[\"TOTAL_EXPENDITURE\"], [75 ,25])\n",
    "iqr = q75 - q25\n",
    "\n",
    "for threshold in np.arange(1,5,0.5):\n",
    "    min_val = q25 - (iqr*threshold)\n",
    "    max_val = q75 + (iqr*threshold)\n",
    "    print(\"The score threshold is: {}\".format(threshold))\n",
    "    print(\"Number of outliers is: {}\".format(\n",
    "        len((np.where((education_df[\"TOTAL_EXPENDITURE\"] > max_val) \n",
    "                      | (education_df[\"TOTAL_EXPENDITURE\"] < min_val))[0]))\n",
    "    ))"
   ]
  },
  {
   "cell_type": "code",
   "execution_count": 17,
   "metadata": {},
   "outputs": [
    {
     "data": {
      "image/png": "[encoded data removed]",
      "text/plain": [
       "<Figure size 1080x360 with 4 Axes>"
      ]
     },
     "metadata": {
      "needs_background": "light"
     },
     "output_type": "display_data"
    }
   ],
   "source": [
    "#box plot and historgram for TOTAL_REVENUE to visually see changes in outliers\n",
    "\n",
    "plt.figure(figsize = (15,5))\n",
    "\n",
    "plt.subplot(2,2,1)\n",
    "plt.hist(education_df[\"TOTAL_REVENUE\"])\n",
    "plt.title(\"Histogram of TOTAL REVENUE\")\n",
    "\n",
    "plt.subplot(2,2,2)\n",
    "plt.hist(np.log(education_df[\"TOTAL_EXPENDITURE\"]))\n",
    "plt.title(\"Histrogram of Log TOTAL EXPENDITURE\")\n",
    "\n",
    "plt.subplot(2,2,3)\n",
    "plt.hist(education_df[\"TOTAL_REVENUE\"])\n",
    "plt.title(\"Histogram of TOTAL REVENUE\")\n",
    "\n",
    "plt.subplot(2,2,4)\n",
    "plt.hist(np.log(education_df[\"TOTAL_EXPENDITURE\"]))\n",
    "plt.title(\"Histrogram of Log TOTAL EXPENDITURE\")\n",
    "\n",
    "plt.show()"
   ]
  },
  {
   "cell_type": "code",
   "execution_count": 18,
   "metadata": {},
   "outputs": [
    {
     "data": {
      "image/png": "[encoded data removed]",
      "text/plain": [
       "<Figure size 1080x360 with 4 Axes>"
      ]
     },
     "metadata": {
      "needs_background": "light"
     },
     "output_type": "display_data"
    }
   ],
   "source": [
    "#box plot and boxplotorgram for TOTAL_EXPENDITURE to visually see changes in outliers\n",
    "\n",
    "plt.figure(figsize = (15,5))\n",
    "\n",
    "plt.subplot(2,2,1)\n",
    "plt.boxplot(education_df[\"TOTAL_REVENUE\"])\n",
    "plt.title(\"boxplotogram of TOTAL REVENUE\")\n",
    "\n",
    "plt.subplot(2,2,2)\n",
    "plt.boxplot(np.log(education_df[\"TOTAL_EXPENDITURE\"]))\n",
    "plt.title(\"boxplotrogram of Log TOTAL EXPENDITURE\")\n",
    "\n",
    "plt.subplot(2,2,3)\n",
    "plt.boxplot(education_df[\"TOTAL_REVENUE\"])\n",
    "plt.title(\"boxplotogram of TOTAL REVENUE\")\n",
    "\n",
    "plt.subplot(2,2,4)\n",
    "plt.boxplot(np.log(education_df[\"TOTAL_EXPENDITURE\"]))\n",
    "plt.title(\"boxplotrogram of Log TOTAL EXPENDITURE\")\n",
    "\n",
    "plt.show()"
   ]
  },
  {
   "cell_type": "code",
   "execution_count": 19,
   "metadata": {},
   "outputs": [
    {
     "name": "stdout",
     "output_type": "stream",
     "text": [
      "The score threshold is: 1.0\n",
      "Number of outliers is: 12\n",
      "The score threshold is: 1.5\n",
      "Number of outliers is: 0\n",
      "The score threshold is: 2.0\n",
      "Number of outliers is: 0\n",
      "The score threshold is: 2.5\n",
      "Number of outliers is: 0\n",
      "The score threshold is: 3.0\n",
      "Number of outliers is: 0\n",
      "The score threshold is: 3.5\n",
      "Number of outliers is: 0\n",
      "The score threshold is: 4.0\n",
      "Number of outliers is: 0\n",
      "The score threshold is: 4.5\n",
      "Number of outliers is: 0\n"
     ]
    }
   ],
   "source": [
    "# NumPy's percentile() method returns the \n",
    "# values of the given percentiles. In our case,\n",
    "# we give 75 and 25 as parameters which corresponds \n",
    "# to the third and the first quartile.\n",
    "q75, q25 = np.percentile(np.log(education_df[\"TOTAL_REVENUE\"]), [75 ,25])\n",
    "iqr = q75 - q25\n",
    "\n",
    "for threshold in np.arange(1,5,0.5):\n",
    "    min_val = q25 - (iqr*threshold)\n",
    "    max_val = q75 + (iqr*threshold)\n",
    "    print(\"The score threshold is: {}\".format(threshold))\n",
    "    print(\"Number of outliers is: {}\".format(\n",
    "        len((np.where((np.log(education_df[\"TOTAL_REVENUE\"]) > max_val) \n",
    "                      | (np.log(education_df[\"TOTAL_REVENUE\"]) < min_val))[0]))\n",
    "    ))"
   ]
  },
  {
   "cell_type": "code",
   "execution_count": 20,
   "metadata": {},
   "outputs": [
    {
     "name": "stdout",
     "output_type": "stream",
     "text": [
      "The score threshold is: 1.0\n",
      "Number of outliers is: 16\n",
      "The score threshold is: 1.5\n",
      "Number of outliers is: 0\n",
      "The score threshold is: 2.0\n",
      "Number of outliers is: 0\n",
      "The score threshold is: 2.5\n",
      "Number of outliers is: 0\n",
      "The score threshold is: 3.0\n",
      "Number of outliers is: 0\n",
      "The score threshold is: 3.5\n",
      "Number of outliers is: 0\n",
      "The score threshold is: 4.0\n",
      "Number of outliers is: 0\n",
      "The score threshold is: 4.5\n",
      "Number of outliers is: 0\n"
     ]
    }
   ],
   "source": [
    "# NumPy's percentile() method returns the \n",
    "# values of the given percentiles. In our case,\n",
    "# we give 75 and 25 as parameters which corresponds \n",
    "# to the third and the first quartile.\n",
    "q75, q25 = np.percentile(np.log(education_df[\"TOTAL_EXPENDITURE\"]), [75 ,25])\n",
    "iqr = q75 - q25\n",
    "\n",
    "for threshold in np.arange(1,5,0.5):\n",
    "    min_val = q25 - (iqr*threshold)\n",
    "    max_val = q75 + (iqr*threshold)\n",
    "    print(\"The score threshold is: {}\".format(threshold))\n",
    "    print(\"Number of outliers is: {}\".format(\n",
    "        len((np.where((np.log(education_df[\"TOTAL_EXPENDITURE\"]) > max_val) \n",
    "                      | (np.log(education_df[\"TOTAL_EXPENDITURE\"]) < min_val))[0]))\n",
    "    ))"
   ]
  },
  {
   "cell_type": "code",
   "execution_count": 21,
   "metadata": {},
   "outputs": [],
   "source": [
    "from scipy.stats.mstats import winsorize\n",
    "\n",
    "# We apply one-way winsorization to the highest end\n",
    "# of the value distribution. As we have a lot of extreme\n",
    "# values, we set the values of the outliers to the \n",
    "# value of the 90th percentile. \n",
    "winsorized_rev = winsorize(education_df[\"TOTAL_REVENUE\"], (0, 0.05))\n",
    "winsorized_exp = winsorize(education_df[\"TOTAL_EXPENDITURE\"], (0, 0.05))\n",
    "winsorized_deficit = winsorize(education_df['DEFICIT'], (0.05, 0.05))"
   ]
  },
  {
   "cell_type": "code",
   "execution_count": 22,
   "metadata": {},
   "outputs": [
    {
     "data": {
      "text/plain": [
       "Text(0.5, 1.0, 'Box Plot of DEFICIT')"
      ]
     },
     "execution_count": 22,
     "metadata": {},
     "output_type": "execute_result"
    },
    {
     "data": {
      "image/png": "[encoded data removed]",
      "text/plain": [
       "<Figure size 1080x360 with 3 Axes>"
      ]
     },
     "metadata": {
      "needs_background": "light"
     },
     "output_type": "display_data"
    }
   ],
   "source": [
    "#historgram for winsorized TOTAL_REVENUE, TOTAL_EXPENDITURE & DEFICIT to visually detect outliers\n",
    "\n",
    "plt.figure(figsize = (15,5))\n",
    "\n",
    "plt.subplot(1,3,1)\n",
    "plt.boxplot(winsorized_rev, whis=5)\n",
    "plt.title(\"Box Plot of TOTAL REVENUE\")\n",
    "\n",
    "plt.subplot(1,3,2)\n",
    "plt.boxplot(winsorized_exp, whis=5)\n",
    "plt.title(\"Box Plot of TOTAL EXPENDITURE\")\n",
    "\n",
    "plt.subplot(1,3,3)\n",
    "plt.boxplot(winsorized_deficit, whis=5)\n",
    "plt.title(\"Box Plot of DEFICIT\")"
   ]
  },
  {
   "cell_type": "markdown",
   "metadata": {},
   "source": [
    "### 2) Create a new variable and eliminate outliers\n",
    "\n",
    "3) Create another variable by subtracting the original TOTAL_EXPENDITURE from TOTAL_REVENUE (before you eliminated the outliers). You can think of it as a kind of budget deficit in education. Do you find any outlier values in this new variable? If so, eliminate them using the technique you think most suitable."
   ]
  },
  {
   "cell_type": "code",
   "execution_count": 23,
   "metadata": {},
   "outputs": [
    {
     "name": "stdout",
     "output_type": "stream",
     "text": [
      "The score threshold is: 1.0\n",
      "Number of outliers is: 85\n",
      "The score threshold is: 1.5\n",
      "Number of outliers is: 64\n",
      "The score threshold is: 2.0\n",
      "Number of outliers is: 44\n",
      "The score threshold is: 2.5\n",
      "Number of outliers is: 33\n",
      "The score threshold is: 3.0\n",
      "Number of outliers is: 26\n",
      "The score threshold is: 3.5\n",
      "Number of outliers is: 19\n",
      "The score threshold is: 4.0\n",
      "Number of outliers is: 18\n",
      "The score threshold is: 4.5\n",
      "Number of outliers is: 15\n"
     ]
    }
   ],
   "source": [
    "# For DEFICIT field need to remove outliers\n",
    "# NumPy's percentile() method returns the \n",
    "# values of the given percentiles. In our case,\n",
    "# we give 75 and 25 as parameters which corresponds \n",
    "# to the third and the first quartile.\n",
    "q75, q25 = np.percentile(education_df[\"DEFICIT\"], [75 ,25])\n",
    "iqr = q75 - q25\n",
    "\n",
    "for threshold in np.arange(1,5,0.5):\n",
    "    min_val = q25 - (iqr*threshold)\n",
    "    max_val = q75 + (iqr*threshold)\n",
    "    print(\"The score threshold is: {}\".format(threshold))\n",
    "    print(\"Number of outliers is: {}\".format(\n",
    "        len((np.where((education_df[\"DEFICIT\"] > max_val) \n",
    "                      | (education_df[\"DEFICIT\"] < min_val))[0]))\n",
    "    ))"
   ]
  },
  {
   "cell_type": "code",
   "execution_count": 24,
   "metadata": {},
   "outputs": [
    {
     "name": "stdout",
     "output_type": "stream",
     "text": [
      "The score threshold is: 1.0\n",
      "Number of outliers is: 0\n",
      "The score threshold is: 1.5\n",
      "Number of outliers is: 0\n",
      "The score threshold is: 2.0\n",
      "Number of outliers is: 0\n",
      "The score threshold is: 2.5\n",
      "Number of outliers is: 0\n",
      "The score threshold is: 3.0\n",
      "Number of outliers is: 0\n",
      "The score threshold is: 3.5\n",
      "Number of outliers is: 0\n",
      "The score threshold is: 4.0\n",
      "Number of outliers is: 0\n",
      "The score threshold is: 4.5\n",
      "Number of outliers is: 0\n"
     ]
    }
   ],
   "source": [
    "# For DEFICIT field need to remove outliers\n",
    "# NumPy's percentile() method returns the \n",
    "# values of the given percentiles. In our case,\n",
    "# we give 75 and 25 as parameters which corresponds \n",
    "# to the third and the first quartile.\n",
    "q75, q25 = np.percentile(np.log(education_df[\"DEFICIT\"]), [75 ,25])\n",
    "iqr = q75 - q25\n",
    "\n",
    "for threshold in np.arange(1,5,0.5):\n",
    "    min_val = q25 - (iqr*threshold)\n",
    "    max_val = q75 + (iqr*threshold)\n",
    "    print(\"The score threshold is: {}\".format(threshold))\n",
    "    print(\"Number of outliers is: {}\".format(\n",
    "        len((np.where((np.log(education_df[\"DEFICIT\"]) > max_val) \n",
    "                      | (np.log(education_df[\"DEFICIT\"]) < min_val))[0]))\n",
    "    ))"
   ]
  },
  {
   "cell_type": "markdown",
   "metadata": {},
   "source": [
    "### 3) Using cleaned data (missing values & outliers) to create DEFICIT variable and run description stats\n",
    "\n",
    "4) Now create another variable by subtracting the TOTAL_EXPENDITURE from TOTAL_REVENUE. This time, use the outlier eliminated versions of TOTAL_EXPENDITURE from TOTAL_REVENUE. In this newly created variable, can you find any outliers? If so, eliminate them.\n",
    "\n",
    "\n",
    "\n"
   ]
  },
  {
   "cell_type": "code",
   "execution_count": 25,
   "metadata": {},
   "outputs": [],
   "source": [
    "#Recalculate DEFICIT variable after adjusting outliers\n",
    "deficit2 = winsorized_rev - winsorized_exp"
   ]
  },
  {
   "cell_type": "code",
   "execution_count": 26,
   "metadata": {},
   "outputs": [
    {
     "data": {
      "text/plain": [
       "Text(0.5, 1.0, 'Box Plot of DEFICIT')"
      ]
     },
     "execution_count": 26,
     "metadata": {},
     "output_type": "execute_result"
    },
    {
     "data": {
      "image/png": "[encoded data removed]",
      "text/plain": [
       "<Figure size 432x288 with 1 Axes>"
      ]
     },
     "metadata": {
      "needs_background": "light"
     },
     "output_type": "display_data"
    }
   ],
   "source": [
    "#Boxplot of new deficit using clean data\n",
    "plt.boxplot(deficit2, whis=5)\n",
    "plt.title(\"Box Plot of DEFICIT\")"
   ]
  },
  {
   "cell_type": "code",
   "execution_count": 31,
   "metadata": {},
   "outputs": [
    {
     "data": {
      "text/plain": [
       "Text(0.5, 1.0, 'Box Plot of DEFICIT')"
      ]
     },
     "execution_count": 31,
     "metadata": {},
     "output_type": "execute_result"
    },
    {
     "data": {
      "image/png": "[encoded data removed]",
      "text/plain": [
       "<Figure size 432x288 with 1 Axes>"
      ]
     },
     "metadata": {
      "needs_background": "light"
     },
     "output_type": "display_data"
    }
   ],
   "source": [
    "#Clean outliers in deficit2\n",
    "winsorized_deficit2 = winsorize(deficit2, (0.05, 0.05))\n",
    "\n",
    "#Boxplot of new deficit using clean data\n",
    "plt.boxplot(winsorized_deficit2, whis=5)\n",
    "plt.title(\"Box Plot of DEFICIT\")"
   ]
  },
  {
   "cell_type": "markdown",
   "metadata": {},
   "source": [
    "### Compare some basic descriptive statistics of the budget variables you end up with in the 3rd and the 4th questions. Do you see any differences?\n",
    "\n"
   ]
  },
  {
   "cell_type": "code",
   "execution_count": 32,
   "metadata": {},
   "outputs": [
    {
     "data": {
      "text/html": [
       "<div>\n",
       "<style scoped>\n",
       "    .dataframe tbody tr th:only-of-type {\n",
       "        vertical-align: middle;\n",
       "    }\n",
       "\n",
       "    .dataframe tbody tr th {\n",
       "        vertical-align: top;\n",
       "    }\n",
       "\n",
       "    .dataframe thead th {\n",
       "        text-align: right;\n",
       "    }\n",
       "</style>\n",
       "<table border=\"1\" class=\"dataframe\">\n",
       "  <thead>\n",
       "    <tr style=\"text-align: right;\">\n",
       "      <th></th>\n",
       "      <th>original_deficit</th>\n",
       "      <th>winsorized_deficit1</th>\n",
       "      <th>winsorized_deficit2</th>\n",
       "    </tr>\n",
       "  </thead>\n",
       "  <tbody>\n",
       "    <tr>\n",
       "      <th>count</th>\n",
       "      <td>4.220000e+02</td>\n",
       "      <td>422.000000</td>\n",
       "      <td>4.220000e+02</td>\n",
       "    </tr>\n",
       "    <tr>\n",
       "      <th>mean</th>\n",
       "      <td>-1.040443e+05</td>\n",
       "      <td>-70770.636093</td>\n",
       "      <td>-1.630347e+05</td>\n",
       "    </tr>\n",
       "    <tr>\n",
       "      <th>std</th>\n",
       "      <td>5.991442e+05</td>\n",
       "      <td>341017.550594</td>\n",
       "      <td>5.849519e+05</td>\n",
       "    </tr>\n",
       "    <tr>\n",
       "      <th>min</th>\n",
       "      <td>-5.487742e+06</td>\n",
       "      <td>-921134.000000</td>\n",
       "      <td>-2.190438e+06</td>\n",
       "    </tr>\n",
       "    <tr>\n",
       "      <th>25%</th>\n",
       "      <td>-2.047750e+05</td>\n",
       "      <td>-204775.000000</td>\n",
       "      <td>-2.148508e+05</td>\n",
       "    </tr>\n",
       "    <tr>\n",
       "      <th>50%</th>\n",
       "      <td>-1.434850e+04</td>\n",
       "      <td>-14348.500000</td>\n",
       "      <td>-1.522650e+04</td>\n",
       "    </tr>\n",
       "    <tr>\n",
       "      <th>75%</th>\n",
       "      <td>8.343175e+04</td>\n",
       "      <td>83431.750000</td>\n",
       "      <td>8.193475e+04</td>\n",
       "    </tr>\n",
       "    <tr>\n",
       "      <th>max</th>\n",
       "      <td>1.816932e+06</td>\n",
       "      <td>557170.000000</td>\n",
       "      <td>5.400550e+05</td>\n",
       "    </tr>\n",
       "  </tbody>\n",
       "</table>\n",
       "</div>"
      ],
      "text/plain": [
       "       original_deficit  winsorized_deficit1  winsorized_deficit2\n",
       "count      4.220000e+02           422.000000         4.220000e+02\n",
       "mean      -1.040443e+05        -70770.636093        -1.630347e+05\n",
       "std        5.991442e+05        341017.550594         5.849519e+05\n",
       "min       -5.487742e+06       -921134.000000        -2.190438e+06\n",
       "25%       -2.047750e+05       -204775.000000        -2.148508e+05\n",
       "50%       -1.434850e+04        -14348.500000        -1.522650e+04\n",
       "75%        8.343175e+04         83431.750000         8.193475e+04\n",
       "max        1.816932e+06        557170.000000         5.400550e+05"
      ]
     },
     "execution_count": 32,
     "metadata": {},
     "output_type": "execute_result"
    }
   ],
   "source": [
    "pd.DataFrame({\"original_deficit\": education_df['DEFICIT'], \"winsorized_deficit1\": winsorized_deficit, \n",
    "              \"winsorized_deficit2\": winsorized_deficit2}).describe()"
   ]
  },
  {
   "cell_type": "markdown",
   "metadata": {},
   "source": [
    "For the three iterations the impact of outliers changes the statistics drastically:\n",
    "\n",
    "    1) The mean of the first variant is -70770 whereas the mean of the second variant is -16303.\n",
    "\n",
    "    2) The median of the first variant is -14348.5 whereas the median of the second variant is -15226.5.\n",
    "\n",
    "    3) The maximum of the first variant is 557170 whereas the maximum of the second variant is 540055.\n",
    "\n",
    "The differences imply that chosing the outlier elimination strategy is very critical as it substantially affects the statistics of the variables!"
   ]
  },
  {
   "cell_type": "markdown",
   "metadata": {},
   "source": [
    "### 6) If our variable of interest is the budget deficit variable, which method do you think is the appropriate in dealing with the outliers in this variable: the method in the 3rd question or the one in the 4th question?"
   ]
  },
  {
   "cell_type": "code",
   "execution_count": null,
   "metadata": {},
   "outputs": [],
   "source": []
  }
 ],
 "metadata": {
  "kernelspec": {
   "display_name": "Python 3",
   "language": "python",
   "name": "python3"
  },
  "language_info": {
   "codemirror_mode": {
    "name": "ipython",
    "version": 3
   },
   "file_extension": ".py",
   "mimetype": "text/x-python",
   "name": "python",
   "nbconvert_exporter": "python",
   "pygments_lexer": "ipython3",
   "version": "3.7.3"
  }
 },
 "nbformat": 4,
 "nbformat_minor": 2
}
