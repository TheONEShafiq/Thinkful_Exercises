{
 "cells": [
  {
   "cell_type": "markdown",
   "metadata": {},
   "source": [
    "## Assignment\n",
    "\n",
    "\n",
    "1) Try to model the result of a coin toss. In your model, include any features that you think important in explaining the result. Discuss with your mentor about the pros and cons of adding too many features into your model.\n",
    "\n",
    "2) If you ever used Netflix, you should already have realized that it provides some recommendations for you to watch. In data science, this is an example of the so-called recommendations systems. Read this nontechnical blog post of Netflix about how they model their recommendations systems. Then, derive the features they use in their recommendations engines and discuss what else can be incorporated into this model."
   ]
  },
  {
   "cell_type": "code",
   "execution_count": 9,
   "metadata": {},
   "outputs": [],
   "source": [
    "import numpy as np\n",
    "import pandas as pd\n",
    "from random import randint"
   ]
  },
  {
   "cell_type": "markdown",
   "metadata": {},
   "source": [
    "### 1) Create a model that shows the result of a coin toss.  Include any features relevant to explain the result"
   ]
  },
  {
   "cell_type": "code",
   "execution_count": 25,
   "metadata": {},
   "outputs": [
    {
     "name": "stdout",
     "output_type": "stream",
     "text": [
      "Number of times to flip coin: 6\n",
      "['Heads', 'Heads', 'Heads', 'Heads', 'Heads', 'Heads']\n",
      "Number of times Heads:  6\n",
      "Number of times Tails:  0\n"
     ]
    }
   ],
   "source": [
    "#Cointoss model\n",
    "num = int(input('Number of times to flip coin: '))      #creates input box to capture # of times to iterate\n",
    "flips=[randint(0,1) for n in range(num)]                #takes num of times from input and randomly selects 0 or 1\n",
    "results=[]                                              #defines dictionary for results\n",
    "for object in flips:\n",
    "    if object==0:\n",
    "        results.append('Heads')                         #records each time result is 0 as Heads\n",
    "    elif object==1:\n",
    "        results.append('Tails')                         #records each time result is 1 as Tails\n",
    "print(results)\n",
    "print(\"Number of times Heads: \", results.count('Heads'))\n",
    "print(\"Number of times Tails: \", results.count('Tails'))"
   ]
  },
  {
   "cell_type": "markdown",
   "metadata": {},
   "source": [
    "### 2) If you ever used Netflix, you should already have realized that it provides some recommendations for you to watch. In data science, this is an example of the so-called recommendations systems. Read this nontechnical blog post of Netflix about how they model their recommendations systems. Then, derive the features they use in their recommendations engines and discuss what else can be incorporated into this model."
   ]
  },
  {
   "cell_type": "markdown",
   "metadata": {},
   "source": [
    "The features being used in Netflix's model include viewing history, ratings, similar genres, year of production, and what others have watched that you also watched.  If they were to use demographic infomation then age could also be used to recommend generational movies"
   ]
  },
  {
   "cell_type": "code",
   "execution_count": null,
   "metadata": {},
   "outputs": [],
   "source": []
  }
 ],
 "metadata": {
  "kernelspec": {
   "display_name": "Python 3",
   "language": "python",
   "name": "python3"
  },
  "language_info": {
   "codemirror_mode": {
    "name": "ipython",
    "version": 3
   },
   "file_extension": ".py",
   "mimetype": "text/x-python",
   "name": "python",
   "nbconvert_exporter": "python",
   "pygments_lexer": "ipython3",
   "version": "3.7.3"
  }
 },
 "nbformat": 4,
 "nbformat_minor": 2
}
